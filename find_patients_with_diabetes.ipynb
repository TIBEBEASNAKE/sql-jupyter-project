{
 "cells": [
  {
   "cell_type": "code",
   "execution_count": 1,
   "id": "a1b310c3-3760-4ee7-86c7-9cb3c9533e25",
   "metadata": {},
   "outputs": [
    {
     "name": "stdout",
     "output_type": "stream",
     "text": [
      "\n",
      "SELECT patient_id, patient_name, conditions\n",
      "FROM Patients\n",
      "WHERE conditions LIKE 'DIAB1%' \n",
      "    OR conditions LIKE '% DIAB1%' \n",
      "    OR conditions LIKE 'DIAB1 %' \n",
      "    OR conditions LIKE '% DIAB1';\n",
      "\n"
     ]
    }
   ],
   "source": [
    "# SQL query to find patients with Type I Diabetes\n",
    "query = \"\"\"\n",
    "SELECT patient_id, patient_name, conditions\n",
    "FROM Patients\n",
    "WHERE conditions LIKE 'DIAB1%' \n",
    "    OR conditions LIKE '% DIAB1%' \n",
    "    OR conditions LIKE 'DIAB1 %' \n",
    "    OR conditions LIKE '% DIAB1';\n",
    "\"\"\"\n",
    "\n",
    "print(query)\n"
   ]
  },
  {
   "cell_type": "code",
   "execution_count": null,
   "id": "b961655f-f04c-49d7-86dc-55c990852054",
   "metadata": {},
   "outputs": [],
   "source": []
  }
 ],
 "metadata": {
  "kernelspec": {
   "display_name": "Python 3 (ipykernel)",
   "language": "python",
   "name": "python3"
  },
  "language_info": {
   "codemirror_mode": {
    "name": "ipython",
    "version": 3
   },
   "file_extension": ".py",
   "mimetype": "text/x-python",
   "name": "python",
   "nbconvert_exporter": "python",
   "pygments_lexer": "ipython3",
   "version": "3.11.0"
  }
 },
 "nbformat": 4,
 "nbformat_minor": 5
}
